{
 "cells": [
  {
   "cell_type": "code",
   "execution_count": 39,
   "metadata": {},
   "outputs": [],
   "source": [
    "pd.set_option('display.max_rows', 100)  # or use a specific large number"
   ]
  },
  {
   "cell_type": "code",
   "execution_count": 4,
   "metadata": {},
   "outputs": [],
   "source": [
    "import pandas as pd\n",
    "import os"
   ]
  },
  {
   "cell_type": "code",
   "execution_count": 5,
   "metadata": {},
   "outputs": [],
   "source": [
    "\n",
    "base_path = '../data'\n",
    "\n",
    "data_file = os.path.join(base_path, 'Jobs_NYC_Postings_20231119.csv')\n"
   ]
  },
  {
   "cell_type": "code",
   "execution_count": 8,
   "metadata": {},
   "outputs": [
    {
     "data": {
      "text/html": [
       "<div>\n",
       "<style scoped>\n",
       "    .dataframe tbody tr th:only-of-type {\n",
       "        vertical-align: middle;\n",
       "    }\n",
       "\n",
       "    .dataframe tbody tr th {\n",
       "        vertical-align: top;\n",
       "    }\n",
       "\n",
       "    .dataframe thead th {\n",
       "        text-align: right;\n",
       "    }\n",
       "</style>\n",
       "<table border=\"1\" class=\"dataframe\">\n",
       "  <thead>\n",
       "    <tr style=\"text-align: right;\">\n",
       "      <th></th>\n",
       "      <th>Job ID</th>\n",
       "      <th>Agency</th>\n",
       "      <th>Posting Type</th>\n",
       "      <th># Of Positions</th>\n",
       "      <th>Business Title</th>\n",
       "      <th>Civil Service Title</th>\n",
       "      <th>Title Classification</th>\n",
       "      <th>Title Code No</th>\n",
       "      <th>Level</th>\n",
       "      <th>Job Category</th>\n",
       "      <th>...</th>\n",
       "      <th>Additional Information</th>\n",
       "      <th>To Apply</th>\n",
       "      <th>Hours/Shift</th>\n",
       "      <th>Work Location 1</th>\n",
       "      <th>Recruitment Contact</th>\n",
       "      <th>Residency Requirement</th>\n",
       "      <th>Posting Date</th>\n",
       "      <th>Post Until</th>\n",
       "      <th>Posting Updated</th>\n",
       "      <th>Process Date</th>\n",
       "    </tr>\n",
       "  </thead>\n",
       "  <tbody>\n",
       "    <tr>\n",
       "      <th>0</th>\n",
       "      <td>592901</td>\n",
       "      <td>TAXI &amp; LIMOUSINE COMMISSION</td>\n",
       "      <td>Internal</td>\n",
       "      <td>1</td>\n",
       "      <td>Program Coordinator, Office of Financial Stabi...</td>\n",
       "      <td>COMMUNITY COORDINATOR</td>\n",
       "      <td>Non-Competitive-5</td>\n",
       "      <td>56058</td>\n",
       "      <td>00</td>\n",
       "      <td>Constituent Services &amp; Community Programs Fina...</td>\n",
       "      <td>...</td>\n",
       "      <td>NaN</td>\n",
       "      <td>For City employees, please go to Employee Self...</td>\n",
       "      <td>NaN</td>\n",
       "      <td>New York, NY</td>\n",
       "      <td>NaN</td>\n",
       "      <td>New York City residency is generally required ...</td>\n",
       "      <td>07/11/2023</td>\n",
       "      <td>NaN</td>\n",
       "      <td>07/11/2023</td>\n",
       "      <td>11/14/2023</td>\n",
       "    </tr>\n",
       "    <tr>\n",
       "      <th>1</th>\n",
       "      <td>595589</td>\n",
       "      <td>DEPT OF HEALTH/MENTAL HYGIENE</td>\n",
       "      <td>External</td>\n",
       "      <td>1</td>\n",
       "      <td>HIV Clinical Technical Assistance Specialist, ...</td>\n",
       "      <td>CITY RESEARCH SCIENTIST</td>\n",
       "      <td>Non-Competitive-5</td>\n",
       "      <td>21744</td>\n",
       "      <td>02</td>\n",
       "      <td>Constituent Services &amp; Community Programs Heal...</td>\n",
       "      <td>...</td>\n",
       "      <td>**IMPORTANT NOTES TO ALL CANDIDATES:  Please n...</td>\n",
       "      <td>Apply online with a cover letter to https://a1...</td>\n",
       "      <td>NaN</td>\n",
       "      <td>NaN</td>\n",
       "      <td>NaN</td>\n",
       "      <td>New York City residency is generally required ...</td>\n",
       "      <td>07/31/2023</td>\n",
       "      <td>28-NOV-2023</td>\n",
       "      <td>07/31/2023</td>\n",
       "      <td>11/14/2023</td>\n",
       "    </tr>\n",
       "    <tr>\n",
       "      <th>2</th>\n",
       "      <td>587575</td>\n",
       "      <td>HRA/DEPT OF SOCIAL SERVICES</td>\n",
       "      <td>External</td>\n",
       "      <td>1</td>\n",
       "      <td>ADMINSTRATIVE ASSISTANT TO THE DIRECTOR</td>\n",
       "      <td>ASSOCIATE JOB OPPORTUNITY SPEC</td>\n",
       "      <td>Competitive-1</td>\n",
       "      <td>52316</td>\n",
       "      <td>02</td>\n",
       "      <td>Administration &amp; Human Resources Social Services</td>\n",
       "      <td>...</td>\n",
       "      <td>**LOAN FORGIVENESS  The federal government pro...</td>\n",
       "      <td>*******THE PROPOSED SALARY RANGE FOR THIS POSI...</td>\n",
       "      <td>9:00am-17:00pm (Flexible)</td>\n",
       "      <td>109 E 16Th St., N.Y.</td>\n",
       "      <td>NaN</td>\n",
       "      <td>New York City Residency is not required for th...</td>\n",
       "      <td>07/28/2023</td>\n",
       "      <td>NaN</td>\n",
       "      <td>07/28/2023</td>\n",
       "      <td>11/14/2023</td>\n",
       "    </tr>\n",
       "    <tr>\n",
       "      <th>3</th>\n",
       "      <td>589409</td>\n",
       "      <td>OFF OF PAYROLL ADMINISTRATION</td>\n",
       "      <td>Internal</td>\n",
       "      <td>2</td>\n",
       "      <td>Help Desk Level 1 Representative</td>\n",
       "      <td>CLERICAL ASSOCIATE</td>\n",
       "      <td>Competitive-1</td>\n",
       "      <td>10251</td>\n",
       "      <td>02</td>\n",
       "      <td>Technology, Data &amp; Innovation Policy, Research...</td>\n",
       "      <td>...</td>\n",
       "      <td>#O-143 &amp; O-154</td>\n",
       "      <td>Current NYC employees may apply to Job ID: 589...</td>\n",
       "      <td>35 Hours/Day Shift</td>\n",
       "      <td>5 Manhattan West</td>\n",
       "      <td>NaN</td>\n",
       "      <td>New York City residency is generally required ...</td>\n",
       "      <td>06/06/2023</td>\n",
       "      <td>NaN</td>\n",
       "      <td>08/08/2023</td>\n",
       "      <td>11/14/2023</td>\n",
       "    </tr>\n",
       "    <tr>\n",
       "      <th>4</th>\n",
       "      <td>598782</td>\n",
       "      <td>DEPT OF ENVIRONMENT PROTECTION</td>\n",
       "      <td>External</td>\n",
       "      <td>2</td>\n",
       "      <td>CHIEF MARINE ENGINEER (DIESEL)</td>\n",
       "      <td>CHIEF MARINE ENGINEER (DIESEL)</td>\n",
       "      <td>Competitive-1</td>\n",
       "      <td>91523</td>\n",
       "      <td>00</td>\n",
       "      <td>Building Operations &amp; Maintenance</td>\n",
       "      <td>...</td>\n",
       "      <td>Appointments are subject to OMB approval.  For...</td>\n",
       "      <td>Click Apply Now button</td>\n",
       "      <td>35 hours per week / day</td>\n",
       "      <td>Wards Island, N.Y.</td>\n",
       "      <td>NaN</td>\n",
       "      <td>New York City Residency is not required for th...</td>\n",
       "      <td>10/06/2023</td>\n",
       "      <td>NaN</td>\n",
       "      <td>11/06/2023</td>\n",
       "      <td>11/14/2023</td>\n",
       "    </tr>\n",
       "  </tbody>\n",
       "</table>\n",
       "<p>5 rows × 30 columns</p>\n",
       "</div>"
      ],
      "text/plain": [
       "   Job ID                          Agency Posting Type  # Of Positions  \\\n",
       "0  592901     TAXI & LIMOUSINE COMMISSION     Internal               1   \n",
       "1  595589   DEPT OF HEALTH/MENTAL HYGIENE     External               1   \n",
       "2  587575     HRA/DEPT OF SOCIAL SERVICES     External               1   \n",
       "3  589409   OFF OF PAYROLL ADMINISTRATION     Internal               2   \n",
       "4  598782  DEPT OF ENVIRONMENT PROTECTION     External               2   \n",
       "\n",
       "                                      Business Title  \\\n",
       "0  Program Coordinator, Office of Financial Stabi...   \n",
       "1  HIV Clinical Technical Assistance Specialist, ...   \n",
       "2            ADMINSTRATIVE ASSISTANT TO THE DIRECTOR   \n",
       "3                   Help Desk Level 1 Representative   \n",
       "4                     CHIEF MARINE ENGINEER (DIESEL)   \n",
       "\n",
       "              Civil Service Title Title Classification Title Code No Level  \\\n",
       "0           COMMUNITY COORDINATOR    Non-Competitive-5         56058    00   \n",
       "1         CITY RESEARCH SCIENTIST    Non-Competitive-5         21744    02   \n",
       "2  ASSOCIATE JOB OPPORTUNITY SPEC        Competitive-1         52316    02   \n",
       "3              CLERICAL ASSOCIATE        Competitive-1         10251    02   \n",
       "4  CHIEF MARINE ENGINEER (DIESEL)        Competitive-1         91523    00   \n",
       "\n",
       "                                        Job Category  ...  \\\n",
       "0  Constituent Services & Community Programs Fina...  ...   \n",
       "1  Constituent Services & Community Programs Heal...  ...   \n",
       "2   Administration & Human Resources Social Services  ...   \n",
       "3  Technology, Data & Innovation Policy, Research...  ...   \n",
       "4                  Building Operations & Maintenance  ...   \n",
       "\n",
       "                              Additional Information  \\\n",
       "0                                                NaN   \n",
       "1  **IMPORTANT NOTES TO ALL CANDIDATES:  Please n...   \n",
       "2  **LOAN FORGIVENESS  The federal government pro...   \n",
       "3                                     #O-143 & O-154   \n",
       "4  Appointments are subject to OMB approval.  For...   \n",
       "\n",
       "                                            To Apply  \\\n",
       "0  For City employees, please go to Employee Self...   \n",
       "1  Apply online with a cover letter to https://a1...   \n",
       "2  *******THE PROPOSED SALARY RANGE FOR THIS POSI...   \n",
       "3  Current NYC employees may apply to Job ID: 589...   \n",
       "4                             Click Apply Now button   \n",
       "\n",
       "                 Hours/Shift       Work Location 1 Recruitment Contact  \\\n",
       "0                        NaN          New York, NY                 NaN   \n",
       "1                        NaN                   NaN                 NaN   \n",
       "2  9:00am-17:00pm (Flexible)  109 E 16Th St., N.Y.                 NaN   \n",
       "3         35 Hours/Day Shift      5 Manhattan West                 NaN   \n",
       "4    35 hours per week / day    Wards Island, N.Y.                 NaN   \n",
       "\n",
       "                               Residency Requirement Posting Date  \\\n",
       "0  New York City residency is generally required ...   07/11/2023   \n",
       "1  New York City residency is generally required ...   07/31/2023   \n",
       "2  New York City Residency is not required for th...   07/28/2023   \n",
       "3  New York City residency is generally required ...   06/06/2023   \n",
       "4  New York City Residency is not required for th...   10/06/2023   \n",
       "\n",
       "    Post Until Posting Updated Process Date  \n",
       "0          NaN      07/11/2023   11/14/2023  \n",
       "1  28-NOV-2023      07/31/2023   11/14/2023  \n",
       "2          NaN      07/28/2023   11/14/2023  \n",
       "3          NaN      08/08/2023   11/14/2023  \n",
       "4          NaN      11/06/2023   11/14/2023  \n",
       "\n",
       "[5 rows x 30 columns]"
      ]
     },
     "execution_count": 8,
     "metadata": {},
     "output_type": "execute_result"
    }
   ],
   "source": [
    "nyc_job_listings_df = pd.read_csv(data_file)\n",
    "nyc_job_listings_df.head(5)"
   ]
  },
  {
   "cell_type": "markdown",
   "metadata": {},
   "source": [
    "# List job categories"
   ]
  },
  {
   "cell_type": "code",
   "execution_count": 17,
   "metadata": {},
   "outputs": [],
   "source": [
    "grouped_df = nyc_job_listings_df.groupby(\"Job Category\")"
   ]
  },
  {
   "cell_type": "code",
   "execution_count": 40,
   "metadata": {},
   "outputs": [
    {
     "data": {
      "text/plain": [
       "Job Category\n",
       "Administration & Human Resources                                                                                                                                                                  235\n",
       "Administration & Human Resources Building Operations & Maintenance                                                                                                                                 15\n",
       "Administration & Human Resources Communications & Intergovernmental Affairs                                                                                                                         5\n",
       "Administration & Human Resources Communications & Intergovernmental Affairs Engineering, Architecture, & Planning Health Policy, Research & Analysis Public Safety, Inspections, & Enforcement      1\n",
       "Administration & Human Resources Communications & Intergovernmental Affairs Finance, Accounting, & Procurement Policy, Research & Analysis                                                          2\n",
       "                                                                                                                                                                                                 ... \n",
       "Technology, Data & Innovation Legal Affairs Public Safety, Inspections, & Enforcement                                                                                                              16\n",
       "Technology, Data & Innovation Policy, Research & Analysis                                                                                                                                          35\n",
       "Technology, Data & Innovation Policy, Research & Analysis Social Services                                                                                                                           2\n",
       "Technology, Data & Innovation Public Safety, Inspections, & Enforcement                                                                                                                             8\n",
       "Technology, Data & Innovation Social Services                                                                                                                                                      42\n",
       "Length: 198, dtype: int64"
      ]
     },
     "execution_count": 40,
     "metadata": {},
     "output_type": "execute_result"
    }
   ],
   "source": [
    "grouped_size = grouped_df.size()\n",
    "grouped_size"
   ]
  },
  {
   "cell_type": "markdown",
   "metadata": {},
   "source": [
    "# Filtering out for technological and data related jobs job\n",
    "The column `Job Category` contains strings with the industry specific expertise required. Everything that contains \"Technology\" is filtered. This is the lowest filter by ensuring that everything that resolves around technology is included.\n"
   ]
  },
  {
   "cell_type": "code",
   "execution_count": null,
   "metadata": {},
   "outputs": [],
   "source": [
    "# Filter the DataFrame based on the condition\n",
    "filtered_df = nyc_job_listings_df[nyc_job_listings_df['Job Category'].str.lower().str.contains(\"technology|data\")]\n",
    "filtered_df.head(4)\n"
   ]
  },
  {
   "cell_type": "code",
   "execution_count": 58,
   "metadata": {},
   "outputs": [],
   "source": [
    "ai_filtered_df = filtered_df[filtered_df['Job Description'].str.lower().str.contains('artificial intelligence')]"
   ]
  },
  {
   "cell_type": "code",
   "execution_count": 62,
   "metadata": {},
   "outputs": [
    {
     "data": {
      "text/plain": [
       "562     The New York City Department of Environmental Protection (DEP) protects public health and the environment by supplying clean drinking water, collecting, and treating wastewater, and reducing air, noise, and hazardous materials pollution. DEP is the largest combined municipal water and wastewater utility in the country, with nearly 6,000 employees. We deliver 1.1 billion gallons of high-quality drinking water per day to 8.5 million New York City residents and more than 1 million people in Upstate New York, and we collect and treat an average of 1.3 billion gallons of wastewater per day.   The New York City Department of Environmental Protectionâs (DEP) Bureau of Information Technology (BIT) is responsible for providing quality business, technical and IT system support to our users. This commitment is realized through collaboration, strong relationships, and a unified vision with our partners at DEP to provide quality technology solutions to our business needs. Providing these services allows us to ensure that DEP continues its tradition of delivering excellent service to the residents of New York City.    The Bureau of Business Information Technology seeks to hire one (1) Cyber Security Analyst to work in the Production/Service Management Unit.   Under minimal direction with some latitude for independent judgment, the Cyber Security Analyst will be responsible for coordinating BITâs Service Management and Production Support Unit digital transformation efforts. This position will assist with digital transformation by investigating, measuring, and assessing the agencyâs technology, harnessing the power of analytics, automation, and artificial intelligence (AI) implementing, the right strategy and technology, and the changes needed to help our business thrive.    Tasks are outlined below: - Identify business needs, design processes, and leverage technology and security best practices to ensure NYC DEP employees can continue to deliver best in class services to our customers - Drive automation and simplification across workflows in the organization while embedding data and analytics to support smarter decision making. - Serve as a key technical resource for internal customers to help drive digital transformation through data, AI, and automation technologies. - Deliver services and solutions using the suite of Microsoft's PowerApps, Power BI, SharePoint, Power Automate, Microsoft Teams, and data integrations. - Work with the internal IT teams and cloud vendors to help build, secure, deploy, operate, support, and optimize data, AI, and automation solutions. - Create, maintain, and administer a library of automated playbooks for common information security threats and customize these plans for specific environments. -Perform regular updates of existing Playbooks based on requirements provided by operations teams for changes in the Threat Landscape.\n",
       "3496    The New York City Department of Environmental Protection (DEP) protects public health and the environment by supplying clean drinking water, collecting, and treating wastewater, and reducing air, noise, and hazardous materials pollution. DEP is the largest combined municipal water and wastewater utility in the country, with nearly 6,000 employees. We deliver 1.1 billion gallons of high-quality drinking water per day to 8.5 million New York City residents and more than 1 million people in Upstate New York, and we collect and treat an average of 1.3 billion gallons of wastewater per day.   The New York City Department of Environmental Protectionâs (DEP) Bureau of Information Technology (BIT) is responsible for providing quality business, technical and IT system support to our users. This commitment is realized through collaboration, strong relationships, and a unified vision with our partners at DEP to provide quality technology solutions to our business needs. Providing these services allows us to ensure that DEP continues its tradition of delivering excellent service to the residents of New York City.    The Bureau of Business Information Technology seeks to hire one (1) Cyber Security Analyst to work in the Production/Service Management Unit.   Under minimal direction with some latitude for independent judgment, the Cyber Security Analyst will be responsible for coordinating BITâs Service Management and Production Support Unit digital transformation efforts. This position will assist with digital transformation by investigating, measuring, and assessing the agencyâs technology, harnessing the power of analytics, automation, and artificial intelligence (AI) implementing, the right strategy and technology, and the changes needed to help our business thrive.    Tasks are outlined below: - Identify business needs, design processes, and leverage technology and security best practices to ensure NYC DEP employees can continue to deliver best in class services to our customers - Drive automation and simplification across workflows in the organization while embedding data and analytics to support smarter decision making. - Serve as a key technical resource for internal customers to help drive digital transformation through data, AI, and automation technologies. - Deliver services and solutions using the suite of Microsoft's PowerApps, Power BI, SharePoint, Power Automate, Microsoft Teams, and data integrations. - Work with the internal IT teams and cloud vendors to help build, secure, deploy, operate, support, and optimize data, AI, and automation solutions. - Create, maintain, and administer a library of automated playbooks for common information security threats and customize these plans for specific environments. -Perform regular updates of existing Playbooks based on requirements provided by operations teams for changes in the Threat Landscape.\n",
       "5324                                                                                                                                                                                                                                                                                                                                                                                                                                                                                                                                                                                                                                                                                                                                                                                                                                                    The New York City Department of Environmental Protection (DEP) protects public health and the environment by supplying clean drinking water, collecting and treating wastewater, and reducing air, noise, and hazardous materials pollution. DEP is the largest combined municipal water and wastewater utility in the country, with nearly 6,000 employees. We deliver 1.1 billion gallons of high-quality drinking water per day to 8.5 million New York City residents and more than 1 million people in Upstate New York, and we collect and treat an average of 1.3 billion gallons of wastewater per day.   The Bureau of Environmental Complianceâs (BEC) mission is the enforcement of environmental laws and regulations, which affect the health and safety of the public and environment. Specifically, the bureau enforces the Cityâs Asbestos regulations as well as the Air and Noise Codes. The Bureau is comprised of the Division of Air & Noise Policy, Permitting and Enforcement and the Asbestos Control Program. These divisions respond to; air and noise code complaints; inspect and track asbestos removal projects; and foster the goals of environmental protection. Responsibilities also include certifying asbestos handlers, inspecting and issuing operating certificates to stationary combustion and industrial process sources, and implementing the requirements of the Clean Air Act.   The BEC is currently seeking a Director of Technology to support and oversee various needs of the Bureau.  The Director of Technology will supervise and manage the deployment of desktops, laptops, cellphones, software and software licenses for staff. Typical BEC software includes GIS, Adobe, Microsoft Suite Products, others. Additionally, BEC oversees several technical projects and applications that require close coordination with DEP Bureau of Information Technology (BIT), NYC OTI, BEC staff and consultants. Applications include Internet of Things projects including remote sensing technology and use of artificial intelligence, tracking systems for air, noise and asbestos regulatory enforcement.\n",
       "5810                                                                                                                                                                                                                                                                                                                                                                                                                                                                                                                                                                                                                                                                                                                                                                                                                                                    The New York City Department of Environmental Protection (DEP) protects public health and the environment by supplying clean drinking water, collecting and treating wastewater, and reducing air, noise, and hazardous materials pollution. DEP is the largest combined municipal water and wastewater utility in the country, with nearly 6,000 employees. We deliver 1.1 billion gallons of high-quality drinking water per day to 8.5 million New York City residents and more than 1 million people in Upstate New York, and we collect and treat an average of 1.3 billion gallons of wastewater per day.   The Bureau of Environmental Complianceâs (BEC) mission is the enforcement of environmental laws and regulations, which affect the health and safety of the public and environment. Specifically, the bureau enforces the Cityâs Asbestos regulations as well as the Air and Noise Codes. The Bureau is comprised of the Division of Air & Noise Policy, Permitting and Enforcement and the Asbestos Control Program. These divisions respond to; air and noise code complaints; inspect and track asbestos removal projects; and foster the goals of environmental protection. Responsibilities also include certifying asbestos handlers, inspecting and issuing operating certificates to stationary combustion and industrial process sources, and implementing the requirements of the Clean Air Act.   The BEC is currently seeking a Director of Technology to support and oversee various needs of the Bureau.  The Director of Technology will supervise and manage the deployment of desktops, laptops, cellphones, software and software licenses for staff. Typical BEC software includes GIS, Adobe, Microsoft Suite Products, others. Additionally, BEC oversees several technical projects and applications that require close coordination with DEP Bureau of Information Technology (BIT), NYC OTI, BEC staff and consultants. Applications include Internet of Things projects including remote sensing technology and use of artificial intelligence, tracking systems for air, noise and asbestos regulatory enforcement.\n",
       "Name: Job Description, dtype: object"
      ]
     },
     "execution_count": 62,
     "metadata": {},
     "output_type": "execute_result"
    }
   ],
   "source": [
    "ai_filtered_df['Job Description']"
   ]
  },
  {
   "cell_type": "code",
   "execution_count": null,
   "metadata": {},
   "outputs": [],
   "source": []
  }
 ],
 "metadata": {
  "kernelspec": {
   "display_name": "Python 3",
   "language": "python",
   "name": "python3"
  },
  "language_info": {
   "codemirror_mode": {
    "name": "ipython",
    "version": 3
   },
   "file_extension": ".py",
   "mimetype": "text/x-python",
   "name": "python",
   "nbconvert_exporter": "python",
   "pygments_lexer": "ipython3",
   "version": "3.12.0"
  }
 },
 "nbformat": 4,
 "nbformat_minor": 2
}
